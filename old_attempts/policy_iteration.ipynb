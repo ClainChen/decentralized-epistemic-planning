{
 "cells": [
  {
   "cell_type": "code",
   "id": "initial_id",
   "metadata": {
    "collapsed": true,
    "ExecuteTime": {
     "end_time": "2025-05-14T09:05:29.678566Z",
     "start_time": "2025-05-14T09:05:29.520384Z"
    }
   },
   "source": [
    "import random\n",
    "\n",
    "import numpy as np\n",
    "\n",
    "\n",
    "class Agent:\n",
    "    def __init__(self, ini_room, connections, method):\n",
    "        self.room = ini_room\n",
    "        self.all_rooms = [room for room in connections.keys()]\n",
    "        self.connections = connections\n",
    "        self.history = []\n",
    "        self.distribution = {room: 1 for room in self.all_rooms}\n",
    "        self.next_distribution(self.room)\n",
    "        self.method = method\n",
    "\n",
    "    def __eq__(self, other):\n",
    "        return self.room == other.room\n",
    "\n",
    "    def auto_act(self):\n",
    "        if self.method == 'random':\n",
    "            self.random_act()\n",
    "        elif self.method == 'distribution':\n",
    "            self.act_with_distribution()\n",
    "\n",
    "    def random_act(self):\n",
    "        nr = random.choice(self.connections[self.room])\n",
    "        self.move(nr)\n",
    "\n",
    "    def act_with_distribution(self):\n",
    "        distribution = self.normalize_distribution()\n",
    "        nr = np.random.choice(self.connections[self.room], p=distribution)\n",
    "        self.move(nr)\n",
    "\n",
    "    def move(self, nr):\n",
    "        self.history.append(self.room)\n",
    "        self.room = nr\n",
    "        self.next_distribution(self.room)\n",
    "\n",
    "    def normalize_distribution(self):\n",
    "        distribution = np.array([self.distribution[value] for value in self.connections[self.room]])\n",
    "        # print(distribution)\n",
    "        return distribution / np.sum(distribution)\n",
    "\n",
    "    def next_distribution(self, room):\n",
    "        new_distribution = {room: 0 for room in self.all_rooms}\n",
    "        for pos_loc, next_locs in self.connections.items():\n",
    "            if pos_loc != room:\n",
    "                for next_loc in next_locs:\n",
    "                    new_distribution[next_loc] += self.distribution[pos_loc]\n",
    "        # Avoid extreme large value in distribution which might exceed the limitation of int\n",
    "        if all(value > 1000 for value in list(new_distribution.values())):\n",
    "            new_distribution = {key: value / 1000 for key, value in new_distribution.items()}\n",
    "        self.distribution = new_distribution\n",
    "\n",
    "\n",
    "class Problem:\n",
    "    def __init__(self, start_room, connections):\n",
    "        self.start_room = start_room\n",
    "        self.connections = connections\n",
    "        self.agent1 = None\n",
    "        self.agent2 = None\n",
    "\n",
    "    def init_problem(self, method1, method2):\n",
    "        self.agent1 = Agent(self.start_room, self.connections, method1)\n",
    "        self.agent2 = Agent(random.choice([room for room in self.connections.keys() if room != self.start_room]),\n",
    "                            self.connections, method2)\n",
    "\n",
    "    def auto_execute_a_round(self):\n",
    "        self.agent1.auto_act()\n",
    "        self.agent2.auto_act()\n",
    "\n",
    "    def execute_a_round(self, room1, room2):\n",
    "        self.agent1.move(room1)\n",
    "        self.agent2.move(room2)\n",
    "\n",
    "    def simulate(self, method1, method2, times=10000):\n",
    "        total_moves = 0\n",
    "        for _ in range(times):\n",
    "            self.init_problem(method1, method2)\n",
    "            while self.agent1.room != self.agent2.room:\n",
    "                self.auto_execute_a_round()\n",
    "                total_moves += 1\n",
    "        print(\n",
    "            f'method: {method1, method2}\\nsimulate times: {times}\\nTotal moves: {total_moves}\\nAverage moves: {total_moves / times}\\n---------')\n",
    "\n",
    "\n",
    "method_pair = [('random', 'random'), ('distribution', 'random'), ('distribution', 'distribution')]\n"
   ],
   "outputs": [],
   "execution_count": 1
  },
  {
   "metadata": {
    "ExecuteTime": {
     "end_time": "2025-05-14T09:05:35.268542Z",
     "start_time": "2025-05-14T09:05:29.695607Z"
    }
   },
   "cell_type": "code",
   "source": [
    "ini_room1 = 'A'\n",
    "connections1 = {'A': ['A', 'B', 'D'],\n",
    "                'B': ['A', 'B', 'C'],\n",
    "                'C': ['B', 'C', 'D'],\n",
    "                'D': ['A', 'C', 'D']}\n",
    "\n",
    "problem1 = Problem(ini_room1, connections1)\n",
    "for method1, method2 in method_pair:\n",
    "    problem1.simulate(method1=method1, method2=method2)"
   ],
   "id": "be0a755ac21fec42",
   "outputs": [
    {
     "name": "stdout",
     "output_type": "stream",
     "text": [
      "method: ('random', 'random')\n",
      "simulate times: 10000\n",
      "Total moves: 45104\n",
      "Average moves: 4.5104\n",
      "---------\n",
      "method: ('distribution', 'random')\n",
      "simulate times: 10000\n",
      "Total moves: 44241\n",
      "Average moves: 4.4241\n",
      "---------\n",
      "method: ('distribution', 'distribution')\n",
      "simulate times: 10000\n",
      "Total moves: 44250\n",
      "Average moves: 4.425\n",
      "---------\n"
     ]
    }
   ],
   "execution_count": 2
  },
  {
   "metadata": {
    "ExecuteTime": {
     "end_time": "2025-05-14T09:05:42.660664Z",
     "start_time": "2025-05-14T09:05:35.642961Z"
    }
   },
   "cell_type": "code",
   "source": [
    "ini_room2 = 'A'\n",
    "connections2 = {'A': ['A', 'B', 'E', 'F'],\n",
    "                'B': ['A', 'B', 'C', 'F'],\n",
    "                'C': ['B', 'C', 'F'],\n",
    "                'D': ['D', 'E', 'F'],\n",
    "                'E': ['A', 'D', 'E', 'F'],\n",
    "                'F': ['A', 'B', 'C', 'D', 'E', 'F']}\n",
    "\n",
    "problem2 = Problem(ini_room2, connections2)\n",
    "for method1, method2 in method_pair:\n",
    "    problem2.simulate(method1=method1, method2=method2)"
   ],
   "id": "96ed3ec995238d6d",
   "outputs": [
    {
     "name": "stdout",
     "output_type": "stream",
     "text": [
      "method: ('random', 'random')\n",
      "simulate times: 10000\n",
      "Total moves: 60484\n",
      "Average moves: 6.0484\n",
      "---------\n",
      "method: ('distribution', 'random')\n",
      "simulate times: 10000\n",
      "Total moves: 55191\n",
      "Average moves: 5.5191\n",
      "---------\n",
      "method: ('distribution', 'distribution')\n",
      "simulate times: 10000\n",
      "Total moves: 46128\n",
      "Average moves: 4.6128\n",
      "---------\n"
     ]
    }
   ],
   "execution_count": 3
  },
  {
   "metadata": {
    "ExecuteTime": {
     "end_time": "2025-05-14T09:05:49.773428Z",
     "start_time": "2025-05-14T09:05:42.680143Z"
    }
   },
   "cell_type": "code",
   "source": [
    "ini_room3 = 'A'\n",
    "connections3 = {'A': ['A', 'B', 'F'],\n",
    "                'B': ['A', 'B', 'C'],\n",
    "                'C': ['B', 'C', 'D'],\n",
    "                'D': ['C', 'D', 'E'],\n",
    "                'E': ['D', 'E', 'F'],\n",
    "                'F': ['A', 'E', 'F']}\n",
    "\n",
    "problem3 = Problem(ini_room2, connections2)\n",
    "for method1, method2 in method_pair:\n",
    "    problem3.simulate(method1=method1, method2=method2)"
   ],
   "id": "9864667796755032",
   "outputs": [
    {
     "name": "stdout",
     "output_type": "stream",
     "text": [
      "method: ('random', 'random')\n",
      "simulate times: 10000\n",
      "Total moves: 60140\n",
      "Average moves: 6.014\n",
      "---------\n",
      "method: ('distribution', 'random')\n",
      "simulate times: 10000\n",
      "Total moves: 54275\n",
      "Average moves: 5.4275\n",
      "---------\n",
      "method: ('distribution', 'distribution')\n",
      "simulate times: 10000\n",
      "Total moves: 46792\n",
      "Average moves: 4.6792\n",
      "---------\n"
     ]
    }
   ],
   "execution_count": 4
  },
  {
   "metadata": {
    "ExecuteTime": {
     "end_time": "2025-05-14T09:08:02.575285Z",
     "start_time": "2025-05-14T09:05:49.800017Z"
    }
   },
   "cell_type": "code",
   "source": [
    "problem4 = Problem(ini_room1, connections1)\n",
    "first_move = ['A', 'B', 'D']\n",
    "\n",
    "for fm in first_move:\n",
    "    for method1, method2 in method_pair:\n",
    "        total_moves = 0\n",
    "        for _ in range(100000):\n",
    "            problem4.init_problem(method1, method2)\n",
    "            agent2_next_room = random.choice(connections1[problem4.agent2.room])\n",
    "            problem4.execute_a_round(fm, agent2_next_room)\n",
    "            total_moves += 1\n",
    "            while problem4.agent1.room != problem4.agent2.room:\n",
    "                problem4.auto_execute_a_round()\n",
    "                total_moves += 1\n",
    "        print(\n",
    "            f'First move: {fm}\\nMethods: {method1, method2}\\nSimulate times:{100000}\\nTotal moves: {total_moves}\\nAverage moves: {total_moves / 100000}\\n---------')"
   ],
   "id": "5c2592987e550c29",
   "outputs": [
    {
     "name": "stdout",
     "output_type": "stream",
     "text": [
      "First move: A\n",
      "Methods: ('random', 'random')\n",
      "Simulate times:100000\n",
      "Total moves: 448256\n",
      "Average moves: 4.48256\n",
      "---------\n",
      "First move: A\n",
      "Methods: ('distribution', 'random')\n",
      "Simulate times:100000\n",
      "Total moves: 445990\n",
      "Average moves: 4.4599\n",
      "---------\n",
      "First move: A\n",
      "Methods: ('distribution', 'distribution')\n",
      "Simulate times:100000\n",
      "Total moves: 445446\n",
      "Average moves: 4.45446\n",
      "---------\n",
      "First move: B\n",
      "Methods: ('random', 'random')\n",
      "Simulate times:100000\n",
      "Total moves: 447081\n",
      "Average moves: 4.47081\n",
      "---------\n",
      "First move: B\n",
      "Methods: ('distribution', 'random')\n",
      "Simulate times:100000\n",
      "Total moves: 445111\n",
      "Average moves: 4.45111\n",
      "---------\n",
      "First move: B\n",
      "Methods: ('distribution', 'distribution')\n",
      "Simulate times:100000\n",
      "Total moves: 443320\n",
      "Average moves: 4.4332\n",
      "---------\n",
      "First move: D\n",
      "Methods: ('random', 'random')\n",
      "Simulate times:100000\n",
      "Total moves: 449618\n",
      "Average moves: 4.49618\n",
      "---------\n",
      "First move: D\n",
      "Methods: ('distribution', 'random')\n",
      "Simulate times:100000\n",
      "Total moves: 447387\n",
      "Average moves: 4.47387\n",
      "---------\n",
      "First move: D\n",
      "Methods: ('distribution', 'distribution')\n",
      "Simulate times:100000\n",
      "Total moves: 443330\n",
      "Average moves: 4.4333\n",
      "---------\n"
     ]
    }
   ],
   "execution_count": 5
  }
 ],
 "metadata": {
  "kernelspec": {
   "display_name": "Python 3",
   "language": "python",
   "name": "python3"
  },
  "language_info": {
   "codemirror_mode": {
    "name": "ipython",
    "version": 2
   },
   "file_extension": ".py",
   "mimetype": "text/x-python",
   "name": "python",
   "nbconvert_exporter": "python",
   "pygments_lexer": "ipython2",
   "version": "2.7.6"
  }
 },
 "nbformat": 4,
 "nbformat_minor": 5
}
