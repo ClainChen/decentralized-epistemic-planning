{
 "cells": [
  {
   "cell_type": "code",
   "id": "initial_id",
   "metadata": {
    "collapsed": true,
    "ExecuteTime": {
     "end_time": "2025-05-14T07:33:21.036885Z",
     "start_time": "2025-05-14T07:33:20.843175Z"
    }
   },
   "source": [
    "import random\n",
    "import numpy as np\n",
    "\n",
    "class Agent:\n",
    "    def __init__(self, ini_room, connections):\n",
    "        self.room = ini_room\n",
    "        self.all_rooms = [room for room in connections.keys()]\n",
    "        self.connections = connections\n",
    "        self.history = []\n",
    "        self.distribution = {room: 1 for room in self.all_rooms}\n",
    "        self.next_distribution(self.room)\n",
    "        \n",
    "    def __eq__(self, other):\n",
    "        return self.room == other.room\n",
    "        \n",
    "    def random_act(self):\n",
    "        self.history.append(self.room)\n",
    "        nr = random.choice(self.connections[self.room])\n",
    "        self.move(nr)\n",
    "        \n",
    "    def act_with_distribution(self):\n",
    "        self.history.append(self.room)\n",
    "        distribution = self.normalize_distribution()\n",
    "        nr = np.random.choice(self.connections[self.room], p=distribution)\n",
    "        self.move(nr)\n",
    "        \n",
    "    def move(self, nr):\n",
    "        self.room = nr\n",
    "        self.next_distribution(self.room)\n",
    "        \n",
    "    def normalize_distribution(self):\n",
    "        distribution = np.array([self.distribution[value] for value in self.connections[self.room]])\n",
    "        # print(distribution)\n",
    "        return distribution / np.sum(distribution)\n",
    "    \n",
    "    def next_distribution(self, room):\n",
    "        new_distribution = {room: 0 for room in self.all_rooms}\n",
    "        for pos_loc, next_locs in self.connections.items():\n",
    "            if pos_loc != room:\n",
    "                for next_loc in next_locs:\n",
    "                    new_distribution[next_loc] += self.distribution[pos_loc]\n",
    "        # Avoid extreme large value in distribution which might exceed the limitation of int\n",
    "        if all(value > 1000 for value in list(new_distribution.values())):\n",
    "            new_distribution = {key: value / 1000 for key, value in new_distribution.items()}\n",
    "        self.distribution = new_distribution\n",
    "\n",
    "class Problem:\n",
    "    def __init__(self, start_room, connections):\n",
    "        self.start_room = start_room\n",
    "        self.connections = connections\n",
    "        \n",
    "    def simulate(self, method1, method2, times=10000):\n",
    "        total_moves = 0\n",
    "        for _ in range(times):\n",
    "            agent1 = Agent(self.start_room, self.connections)\n",
    "            agent2 = Agent(random.choice([room for room in self.connections.keys() if room != self.start_room]), self.connections)\n",
    "            while agent1.room != agent2.room:\n",
    "                if method1 == 'random':\n",
    "                    agent1.random_act()\n",
    "                elif method1 == 'distribution':\n",
    "                    agent1.act_with_distribution()\n",
    "                if method2 == 'random':\n",
    "                    agent2.random_act()\n",
    "                elif method2 == 'distribution':\n",
    "                    agent2.act_with_distribution()\n",
    "                total_moves += 1\n",
    "        print(f'method: {method1, method2}\\nsimulate times: {times}\\nTotal moves: {total_moves}\\nAverage moves: {total_moves/times}\\n---------')\n",
    "\n",
    "method_pair = [('random', 'random'), ('distribution', 'random'), ('distribution', 'distribution')]\n"
   ],
   "outputs": [],
   "execution_count": 2
  },
  {
   "metadata": {
    "ExecuteTime": {
     "end_time": "2025-05-14T07:33:30.955250Z",
     "start_time": "2025-05-14T07:33:24.428782Z"
    }
   },
   "cell_type": "code",
   "source": [
    "ini_room1 = 'A'\n",
    "connections1 = {'A': ['A', 'B', 'D'],\n",
    "              'B': ['A', 'B', 'C'],\n",
    "              'C': ['B', 'C', 'D'],\n",
    "              'D': ['A', 'C', 'D']}\n",
    "\n",
    "problem1 = Problem(ini_room1, connections1)\n",
    "for method1, method2 in method_pair:\n",
    "    problem1.simulate(method1=method1, method2=method2)"
   ],
   "id": "be0a755ac21fec42",
   "outputs": [
    {
     "name": "stdout",
     "output_type": "stream",
     "text": [
      "method: ('random', 'random')\n",
      "simulate times: 10000\n",
      "Total moves: 45132\n",
      "Average moves: 4.5132\n",
      "---------\n",
      "method: ('distribution', 'random')\n",
      "simulate times: 10000\n",
      "Total moves: 44595\n",
      "Average moves: 4.4595\n",
      "---------\n",
      "method: ('distribution', 'distribution')\n",
      "simulate times: 10000\n",
      "Total moves: 44676\n",
      "Average moves: 4.4676\n",
      "---------\n"
     ]
    }
   ],
   "execution_count": 3
  },
  {
   "metadata": {
    "ExecuteTime": {
     "end_time": "2025-05-14T07:33:42.135781Z",
     "start_time": "2025-05-14T07:33:33.970690Z"
    }
   },
   "cell_type": "code",
   "source": [
    "ini_room2 = 'A'\n",
    "connections2 = {'A': ['A', 'B', 'E', 'F'],\n",
    "             'B': ['A', 'B', 'C', 'F'], \n",
    "             'C': ['B', 'C', 'F'],\n",
    "             'D': ['D', 'E', 'F'],\n",
    "             'E': ['A', 'D', 'E', 'F'],\n",
    "             'F': ['A', 'B', 'C', 'D', 'E', 'F']}\n",
    "\n",
    "problem2 = Problem(ini_room2, connections2)\n",
    "for method1, method2 in method_pair:\n",
    "    problem2.simulate(method1=method1, method2=method2)"
   ],
   "id": "96ed3ec995238d6d",
   "outputs": [
    {
     "name": "stdout",
     "output_type": "stream",
     "text": [
      "method: ('random', 'random')\n",
      "simulate times: 10000\n",
      "Total moves: 60101\n",
      "Average moves: 6.0101\n",
      "---------\n",
      "method: ('distribution', 'random')\n",
      "simulate times: 10000\n",
      "Total moves: 55065\n",
      "Average moves: 5.5065\n",
      "---------\n",
      "method: ('distribution', 'distribution')\n",
      "simulate times: 10000\n",
      "Total moves: 47086\n",
      "Average moves: 4.7086\n",
      "---------\n"
     ]
    }
   ],
   "execution_count": 4
  },
  {
   "metadata": {
    "ExecuteTime": {
     "end_time": "2025-05-14T07:34:08.270602Z",
     "start_time": "2025-05-14T07:33:59.834531Z"
    }
   },
   "cell_type": "code",
   "source": [
    "ini_room3 = 'A'\n",
    "connections3 = {'A': ['A', 'B', 'F'],\n",
    "                'B': ['A', 'B', 'C'],\n",
    "                'C': ['B', 'C', 'D'],\n",
    "                'D': ['C', 'D', 'E'],\n",
    "                'E': ['D', 'E', 'F'],\n",
    "                'F': ['A', 'E', 'F']}\n",
    "\n",
    "problem3 = Problem(ini_room2, connections2)\n",
    "for method1, method2 in method_pair:\n",
    "    problem3.simulate(method1=method1, method2=method2)"
   ],
   "id": "9864667796755032",
   "outputs": [
    {
     "name": "stdout",
     "output_type": "stream",
     "text": [
      "method: ('random', 'random')\n",
      "simulate times: 10000\n",
      "Total moves: 60398\n",
      "Average moves: 6.0398\n",
      "---------\n",
      "method: ('distribution', 'random')\n",
      "simulate times: 10000\n",
      "Total moves: 54483\n",
      "Average moves: 5.4483\n",
      "---------\n",
      "method: ('distribution', 'distribution')\n",
      "simulate times: 10000\n",
      "Total moves: 46305\n",
      "Average moves: 4.6305\n",
      "---------\n"
     ]
    }
   ],
   "execution_count": 6
  }
 ],
 "metadata": {
  "kernelspec": {
   "display_name": "Python 3",
   "language": "python",
   "name": "python3"
  },
  "language_info": {
   "codemirror_mode": {
    "name": "ipython",
    "version": 2
   },
   "file_extension": ".py",
   "mimetype": "text/x-python",
   "name": "python",
   "nbconvert_exporter": "python",
   "pygments_lexer": "ipython2",
   "version": "2.7.6"
  }
 },
 "nbformat": 4,
 "nbformat_minor": 5
}
